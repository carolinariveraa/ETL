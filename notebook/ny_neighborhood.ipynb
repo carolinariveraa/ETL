{
 "cells": [
  {
   "attachments": {},
   "cell_type": "markdown",
   "metadata": {},
   "source": []
  },
  {
   "cell_type": "code",
   "execution_count": 150,
   "metadata": {},
   "outputs": [],
   "source": [
    "import pandas as pd\n",
    "import seaborn as sns\n",
    "import matplotlib.pyplot as plt"
   ]
  },
  {
   "cell_type": "code",
   "execution_count": 151,
   "metadata": {},
   "outputs": [],
   "source": [
    "import openpyxl"
   ]
  },
  {
   "cell_type": "code",
   "execution_count": 152,
   "metadata": {},
   "outputs": [],
   "source": [
    "\n",
    "\n",
    "ny_real = pd.read_excel('../data/Table.xlsx')\n"
   ]
  },
  {
   "cell_type": "code",
   "execution_count": 153,
   "metadata": {},
   "outputs": [
    {
     "data": {
      "text/html": [
       "<div>\n",
       "<style scoped>\n",
       "    .dataframe tbody tr th:only-of-type {\n",
       "        vertical-align: middle;\n",
       "    }\n",
       "\n",
       "    .dataframe tbody tr th {\n",
       "        vertical-align: top;\n",
       "    }\n",
       "\n",
       "    .dataframe thead th {\n",
       "        text-align: right;\n",
       "    }\n",
       "</style>\n",
       "<table border=\"1\" class=\"dataframe\">\n",
       "  <thead>\n",
       "    <tr style=\"text-align: right;\">\n",
       "      <th></th>\n",
       "      <th>Area</th>\n",
       "      <th>Borough</th>\n",
       "      <th>Median Asking Price</th>\n",
       "      <th>Median Asking Price Yoy %  Change</th>\n",
       "      <th>Median Asking Rent</th>\n",
       "      <th>Median Asking Rent Yoy %  Change</th>\n",
       "      <th>Median Recorded Sales Price</th>\n",
       "      <th>Median Recorded Sales Price Yoy %  Change</th>\n",
       "    </tr>\n",
       "  </thead>\n",
       "  <tbody>\n",
       "    <tr>\n",
       "      <th>0</th>\n",
       "      <td>All Downtown</td>\n",
       "      <td>Manhattan</td>\n",
       "      <td>$2.195.000</td>\n",
       "      <td>0.219</td>\n",
       "      <td>$4.500</td>\n",
       "      <td>0.452</td>\n",
       "      <td>$1.483.500</td>\n",
       "      <td>0.067</td>\n",
       "    </tr>\n",
       "    <tr>\n",
       "      <th>1</th>\n",
       "      <td>All Midtown</td>\n",
       "      <td>Manhattan</td>\n",
       "      <td>$1.225.000</td>\n",
       "      <td>0.225</td>\n",
       "      <td>$4.350</td>\n",
       "      <td>0.500</td>\n",
       "      <td>$713.500</td>\n",
       "      <td>-0.002</td>\n",
       "    </tr>\n",
       "    <tr>\n",
       "      <th>2</th>\n",
       "      <td>All Upper East Side</td>\n",
       "      <td>Manhattan</td>\n",
       "      <td>$1.675.000</td>\n",
       "      <td>0.117</td>\n",
       "      <td>$3.400</td>\n",
       "      <td>0.388</td>\n",
       "      <td>$1.122.250</td>\n",
       "      <td>0.207</td>\n",
       "    </tr>\n",
       "    <tr>\n",
       "      <th>3</th>\n",
       "      <td>All Upper Manhattan</td>\n",
       "      <td>Manhattan</td>\n",
       "      <td>$699.000</td>\n",
       "      <td>0.000</td>\n",
       "      <td>$2.399</td>\n",
       "      <td>0.091</td>\n",
       "      <td>$659.000</td>\n",
       "      <td>-0.060</td>\n",
       "    </tr>\n",
       "    <tr>\n",
       "      <th>4</th>\n",
       "      <td>All Upper West Side</td>\n",
       "      <td>Manhattan</td>\n",
       "      <td>$1.837.500</td>\n",
       "      <td>0.317</td>\n",
       "      <td>$4.000</td>\n",
       "      <td>0.431</td>\n",
       "      <td>$1.372.500</td>\n",
       "      <td>0.168</td>\n",
       "    </tr>\n",
       "    <tr>\n",
       "      <th>...</th>\n",
       "      <td>...</td>\n",
       "      <td>...</td>\n",
       "      <td>...</td>\n",
       "      <td>...</td>\n",
       "      <td>...</td>\n",
       "      <td>...</td>\n",
       "      <td>...</td>\n",
       "      <td>...</td>\n",
       "    </tr>\n",
       "    <tr>\n",
       "      <th>148</th>\n",
       "      <td>Whitestone</td>\n",
       "      <td>Queens</td>\n",
       "      <td>$649.444</td>\n",
       "      <td>-0.236</td>\n",
       "      <td>NaN</td>\n",
       "      <td>-0.167</td>\n",
       "      <td>$918.000</td>\n",
       "      <td>0.080</td>\n",
       "    </tr>\n",
       "    <tr>\n",
       "      <th>149</th>\n",
       "      <td>Williamsburg</td>\n",
       "      <td>Brooklyn</td>\n",
       "      <td>$1.323.250</td>\n",
       "      <td>-0.020</td>\n",
       "      <td>$3.795</td>\n",
       "      <td>0.365</td>\n",
       "      <td>$1.151.500</td>\n",
       "      <td>0.163</td>\n",
       "    </tr>\n",
       "    <tr>\n",
       "      <th>150</th>\n",
       "      <td>Windsor Terrace</td>\n",
       "      <td>Brooklyn</td>\n",
       "      <td>$980.000</td>\n",
       "      <td>0.154</td>\n",
       "      <td>$2.894</td>\n",
       "      <td>0.052</td>\n",
       "      <td>NaN</td>\n",
       "      <td>-0.143</td>\n",
       "    </tr>\n",
       "    <tr>\n",
       "      <th>151</th>\n",
       "      <td>Woodhaven</td>\n",
       "      <td>Queens</td>\n",
       "      <td>$724.500</td>\n",
       "      <td>0.156</td>\n",
       "      <td>$2.250</td>\n",
       "      <td>0.125</td>\n",
       "      <td>NaN</td>\n",
       "      <td>0.021</td>\n",
       "    </tr>\n",
       "    <tr>\n",
       "      <th>152</th>\n",
       "      <td>Woodside</td>\n",
       "      <td>Queens</td>\n",
       "      <td>$547.500</td>\n",
       "      <td>0.311</td>\n",
       "      <td>$1.925</td>\n",
       "      <td>0.085</td>\n",
       "      <td>NaN</td>\n",
       "      <td>-0.370</td>\n",
       "    </tr>\n",
       "  </tbody>\n",
       "</table>\n",
       "<p>153 rows × 8 columns</p>\n",
       "</div>"
      ],
      "text/plain": [
       "                    Area    Borough Median Asking Price  \\\n",
       "0           All Downtown  Manhattan          $2.195.000   \n",
       "1            All Midtown  Manhattan          $1.225.000   \n",
       "2    All Upper East Side  Manhattan          $1.675.000   \n",
       "3    All Upper Manhattan  Manhattan            $699.000   \n",
       "4    All Upper West Side  Manhattan          $1.837.500   \n",
       "..                   ...        ...                 ...   \n",
       "148           Whitestone     Queens            $649.444   \n",
       "149         Williamsburg   Brooklyn          $1.323.250   \n",
       "150      Windsor Terrace   Brooklyn            $980.000   \n",
       "151            Woodhaven     Queens            $724.500   \n",
       "152             Woodside     Queens            $547.500   \n",
       "\n",
       "     Median Asking Price Yoy %  Change Median Asking Rent  \\\n",
       "0                                0.219             $4.500   \n",
       "1                                0.225             $4.350   \n",
       "2                                0.117             $3.400   \n",
       "3                                0.000             $2.399   \n",
       "4                                0.317             $4.000   \n",
       "..                                 ...                ...   \n",
       "148                             -0.236                NaN   \n",
       "149                             -0.020             $3.795   \n",
       "150                              0.154             $2.894   \n",
       "151                              0.156             $2.250   \n",
       "152                              0.311             $1.925   \n",
       "\n",
       "     Median Asking Rent Yoy %  Change Median Recorded Sales Price  \\\n",
       "0                               0.452                  $1.483.500   \n",
       "1                               0.500                    $713.500   \n",
       "2                               0.388                  $1.122.250   \n",
       "3                               0.091                    $659.000   \n",
       "4                               0.431                  $1.372.500   \n",
       "..                                ...                         ...   \n",
       "148                            -0.167                    $918.000   \n",
       "149                             0.365                  $1.151.500   \n",
       "150                             0.052                         NaN   \n",
       "151                             0.125                         NaN   \n",
       "152                             0.085                         NaN   \n",
       "\n",
       "     Median Recorded Sales Price Yoy %  Change  \n",
       "0                                        0.067  \n",
       "1                                       -0.002  \n",
       "2                                        0.207  \n",
       "3                                       -0.060  \n",
       "4                                        0.168  \n",
       "..                                         ...  \n",
       "148                                      0.080  \n",
       "149                                      0.163  \n",
       "150                                     -0.143  \n",
       "151                                      0.021  \n",
       "152                                     -0.370  \n",
       "\n",
       "[153 rows x 8 columns]"
      ]
     },
     "execution_count": 153,
     "metadata": {},
     "output_type": "execute_result"
    }
   ],
   "source": [
    "ny_real"
   ]
  },
  {
   "cell_type": "code",
   "execution_count": 154,
   "metadata": {},
   "outputs": [
    {
     "data": {
      "text/plain": [
       "Index(['Area', 'Borough', 'Median Asking Price',\n",
       "       'Median Asking Price Yoy %  Change', 'Median Asking Rent',\n",
       "       'Median Asking Rent Yoy %  Change', 'Median Recorded Sales Price',\n",
       "       'Median Recorded Sales Price Yoy %  Change'],\n",
       "      dtype='object')"
      ]
     },
     "execution_count": 154,
     "metadata": {},
     "output_type": "execute_result"
    }
   ],
   "source": [
    "ny_real.columns"
   ]
  },
  {
   "cell_type": "code",
   "execution_count": 155,
   "metadata": {},
   "outputs": [
    {
     "data": {
      "text/plain": [
       "array(['Manhattan', 'Queens', 'Brooklyn'], dtype=object)"
      ]
     },
     "execution_count": 155,
     "metadata": {},
     "output_type": "execute_result"
    }
   ],
   "source": [
    "ny_real.Borough.unique()"
   ]
  },
  {
   "cell_type": "code",
   "execution_count": 156,
   "metadata": {},
   "outputs": [],
   "source": [
    "# Rellenar los valores nulos de la columna \"b\" con los valores de la columna \"a\"\n",
    "ny_real['Median Recorded Sales Price'] = ny_real['Median Recorded Sales Price'].fillna(ny_real['Median Asking Price'])"
   ]
  },
  {
   "cell_type": "code",
   "execution_count": 157,
   "metadata": {},
   "outputs": [],
   "source": [
    "ny_real = ny_real.drop(columns=['Area', 'Median Asking Price Yoy %  Change', 'Median Asking Rent Yoy %  Change', 'Median Asking Price','Median Recorded Sales Price Yoy %  Change'])"
   ]
  },
  {
   "cell_type": "code",
   "execution_count": 158,
   "metadata": {},
   "outputs": [],
   "source": [
    "ny_real = ny_real.dropna()"
   ]
  },
  {
   "cell_type": "code",
   "execution_count": 159,
   "metadata": {},
   "outputs": [
    {
     "data": {
      "text/html": [
       "<div>\n",
       "<style scoped>\n",
       "    .dataframe tbody tr th:only-of-type {\n",
       "        vertical-align: middle;\n",
       "    }\n",
       "\n",
       "    .dataframe tbody tr th {\n",
       "        vertical-align: top;\n",
       "    }\n",
       "\n",
       "    .dataframe thead th {\n",
       "        text-align: right;\n",
       "    }\n",
       "</style>\n",
       "<table border=\"1\" class=\"dataframe\">\n",
       "  <thead>\n",
       "    <tr style=\"text-align: right;\">\n",
       "      <th></th>\n",
       "      <th>Borough</th>\n",
       "      <th>Median Asking Rent</th>\n",
       "      <th>Median Recorded Sales Price</th>\n",
       "    </tr>\n",
       "  </thead>\n",
       "  <tbody>\n",
       "    <tr>\n",
       "      <th>0</th>\n",
       "      <td>Manhattan</td>\n",
       "      <td>$4.500</td>\n",
       "      <td>$1.483.500</td>\n",
       "    </tr>\n",
       "    <tr>\n",
       "      <th>1</th>\n",
       "      <td>Manhattan</td>\n",
       "      <td>$4.350</td>\n",
       "      <td>$713.500</td>\n",
       "    </tr>\n",
       "    <tr>\n",
       "      <th>2</th>\n",
       "      <td>Manhattan</td>\n",
       "      <td>$3.400</td>\n",
       "      <td>$1.122.250</td>\n",
       "    </tr>\n",
       "    <tr>\n",
       "      <th>3</th>\n",
       "      <td>Manhattan</td>\n",
       "      <td>$2.399</td>\n",
       "      <td>$659.000</td>\n",
       "    </tr>\n",
       "    <tr>\n",
       "      <th>4</th>\n",
       "      <td>Manhattan</td>\n",
       "      <td>$4.000</td>\n",
       "      <td>$1.372.500</td>\n",
       "    </tr>\n",
       "    <tr>\n",
       "      <th>...</th>\n",
       "      <td>...</td>\n",
       "      <td>...</td>\n",
       "      <td>...</td>\n",
       "    </tr>\n",
       "    <tr>\n",
       "      <th>147</th>\n",
       "      <td>Manhattan</td>\n",
       "      <td>$4.495</td>\n",
       "      <td>$1.341.906</td>\n",
       "    </tr>\n",
       "    <tr>\n",
       "      <th>149</th>\n",
       "      <td>Brooklyn</td>\n",
       "      <td>$3.795</td>\n",
       "      <td>$1.151.500</td>\n",
       "    </tr>\n",
       "    <tr>\n",
       "      <th>150</th>\n",
       "      <td>Brooklyn</td>\n",
       "      <td>$2.894</td>\n",
       "      <td>$980.000</td>\n",
       "    </tr>\n",
       "    <tr>\n",
       "      <th>151</th>\n",
       "      <td>Queens</td>\n",
       "      <td>$2.250</td>\n",
       "      <td>$724.500</td>\n",
       "    </tr>\n",
       "    <tr>\n",
       "      <th>152</th>\n",
       "      <td>Queens</td>\n",
       "      <td>$1.925</td>\n",
       "      <td>$547.500</td>\n",
       "    </tr>\n",
       "  </tbody>\n",
       "</table>\n",
       "<p>114 rows × 3 columns</p>\n",
       "</div>"
      ],
      "text/plain": [
       "       Borough Median Asking Rent Median Recorded Sales Price\n",
       "0    Manhattan             $4.500                  $1.483.500\n",
       "1    Manhattan             $4.350                    $713.500\n",
       "2    Manhattan             $3.400                  $1.122.250\n",
       "3    Manhattan             $2.399                    $659.000\n",
       "4    Manhattan             $4.000                  $1.372.500\n",
       "..         ...                ...                         ...\n",
       "147  Manhattan             $4.495                  $1.341.906\n",
       "149   Brooklyn             $3.795                  $1.151.500\n",
       "150   Brooklyn             $2.894                    $980.000\n",
       "151     Queens             $2.250                    $724.500\n",
       "152     Queens             $1.925                    $547.500\n",
       "\n",
       "[114 rows x 3 columns]"
      ]
     },
     "execution_count": 159,
     "metadata": {},
     "output_type": "execute_result"
    }
   ],
   "source": [
    "ny_real"
   ]
  },
  {
   "cell_type": "code",
   "execution_count": 160,
   "metadata": {},
   "outputs": [
    {
     "name": "stderr",
     "output_type": "stream",
     "text": [
      "C:\\Users\\river\\AppData\\Local\\Temp\\ipykernel_23520\\2491306272.py:1: FutureWarning: The default value of regex will change from True to False in a future version. In addition, single character regular expressions will *not* be treated as literal strings when regex=True.\n",
      "  ny_real['Median Asking Rent'] = ny_real['Median Asking Rent'].str.replace('$', '').str.replace('.', '').str.replace(',', '.').astype(int)\n",
      "C:\\Users\\river\\AppData\\Local\\Temp\\ipykernel_23520\\2491306272.py:2: FutureWarning: The default value of regex will change from True to False in a future version. In addition, single character regular expressions will *not* be treated as literal strings when regex=True.\n",
      "  ny_real['Median Recorded Sales Price'] = ny_real['Median Recorded Sales Price'].str.replace('$', '').str.replace('.', '').str.replace(',', '.').astype(int)\n"
     ]
    }
   ],
   "source": [
    "ny_real['Median Asking Rent'] = ny_real['Median Asking Rent'].str.replace('$', '').str.replace('.', '').str.replace(',', '.').astype(int)\n",
    "ny_real['Median Recorded Sales Price'] = ny_real['Median Recorded Sales Price'].str.replace('$', '').str.replace('.', '').str.replace(',', '.').astype(int)\n",
    "\n",
    "\n"
   ]
  },
  {
   "cell_type": "code",
   "execution_count": 161,
   "metadata": {},
   "outputs": [
    {
     "data": {
      "text/html": [
       "<div>\n",
       "<style scoped>\n",
       "    .dataframe tbody tr th:only-of-type {\n",
       "        vertical-align: middle;\n",
       "    }\n",
       "\n",
       "    .dataframe tbody tr th {\n",
       "        vertical-align: top;\n",
       "    }\n",
       "\n",
       "    .dataframe thead th {\n",
       "        text-align: right;\n",
       "    }\n",
       "</style>\n",
       "<table border=\"1\" class=\"dataframe\">\n",
       "  <thead>\n",
       "    <tr style=\"text-align: right;\">\n",
       "      <th></th>\n",
       "      <th>Borough</th>\n",
       "      <th>Median Asking Rent</th>\n",
       "      <th>Median Recorded Sales Price</th>\n",
       "    </tr>\n",
       "  </thead>\n",
       "  <tbody>\n",
       "    <tr>\n",
       "      <th>0</th>\n",
       "      <td>Manhattan</td>\n",
       "      <td>4500</td>\n",
       "      <td>1483500</td>\n",
       "    </tr>\n",
       "    <tr>\n",
       "      <th>1</th>\n",
       "      <td>Manhattan</td>\n",
       "      <td>4350</td>\n",
       "      <td>713500</td>\n",
       "    </tr>\n",
       "    <tr>\n",
       "      <th>2</th>\n",
       "      <td>Manhattan</td>\n",
       "      <td>3400</td>\n",
       "      <td>1122250</td>\n",
       "    </tr>\n",
       "    <tr>\n",
       "      <th>3</th>\n",
       "      <td>Manhattan</td>\n",
       "      <td>2399</td>\n",
       "      <td>659000</td>\n",
       "    </tr>\n",
       "    <tr>\n",
       "      <th>4</th>\n",
       "      <td>Manhattan</td>\n",
       "      <td>4000</td>\n",
       "      <td>1372500</td>\n",
       "    </tr>\n",
       "    <tr>\n",
       "      <th>...</th>\n",
       "      <td>...</td>\n",
       "      <td>...</td>\n",
       "      <td>...</td>\n",
       "    </tr>\n",
       "    <tr>\n",
       "      <th>147</th>\n",
       "      <td>Manhattan</td>\n",
       "      <td>4495</td>\n",
       "      <td>1341906</td>\n",
       "    </tr>\n",
       "    <tr>\n",
       "      <th>149</th>\n",
       "      <td>Brooklyn</td>\n",
       "      <td>3795</td>\n",
       "      <td>1151500</td>\n",
       "    </tr>\n",
       "    <tr>\n",
       "      <th>150</th>\n",
       "      <td>Brooklyn</td>\n",
       "      <td>2894</td>\n",
       "      <td>980000</td>\n",
       "    </tr>\n",
       "    <tr>\n",
       "      <th>151</th>\n",
       "      <td>Queens</td>\n",
       "      <td>2250</td>\n",
       "      <td>724500</td>\n",
       "    </tr>\n",
       "    <tr>\n",
       "      <th>152</th>\n",
       "      <td>Queens</td>\n",
       "      <td>1925</td>\n",
       "      <td>547500</td>\n",
       "    </tr>\n",
       "  </tbody>\n",
       "</table>\n",
       "<p>114 rows × 3 columns</p>\n",
       "</div>"
      ],
      "text/plain": [
       "       Borough  Median Asking Rent  Median Recorded Sales Price\n",
       "0    Manhattan                4500                      1483500\n",
       "1    Manhattan                4350                       713500\n",
       "2    Manhattan                3400                      1122250\n",
       "3    Manhattan                2399                       659000\n",
       "4    Manhattan                4000                      1372500\n",
       "..         ...                 ...                          ...\n",
       "147  Manhattan                4495                      1341906\n",
       "149   Brooklyn                3795                      1151500\n",
       "150   Brooklyn                2894                       980000\n",
       "151     Queens                2250                       724500\n",
       "152     Queens                1925                       547500\n",
       "\n",
       "[114 rows x 3 columns]"
      ]
     },
     "execution_count": 161,
     "metadata": {},
     "output_type": "execute_result"
    }
   ],
   "source": [
    "ny_real"
   ]
  },
  {
   "cell_type": "code",
   "execution_count": 162,
   "metadata": {},
   "outputs": [
    {
     "data": {
      "text/html": [
       "<div>\n",
       "<style scoped>\n",
       "    .dataframe tbody tr th:only-of-type {\n",
       "        vertical-align: middle;\n",
       "    }\n",
       "\n",
       "    .dataframe tbody tr th {\n",
       "        vertical-align: top;\n",
       "    }\n",
       "\n",
       "    .dataframe thead th {\n",
       "        text-align: right;\n",
       "    }\n",
       "</style>\n",
       "<table border=\"1\" class=\"dataframe\">\n",
       "  <thead>\n",
       "    <tr style=\"text-align: right;\">\n",
       "      <th></th>\n",
       "      <th>Borough</th>\n",
       "      <th>Median Asking Rent</th>\n",
       "      <th>Median Recorded Sales Price</th>\n",
       "    </tr>\n",
       "  </thead>\n",
       "  <tbody>\n",
       "    <tr>\n",
       "      <th>0</th>\n",
       "      <td>Brooklyn</td>\n",
       "      <td>2716.45</td>\n",
       "      <td>1158306.83</td>\n",
       "    </tr>\n",
       "    <tr>\n",
       "      <th>1</th>\n",
       "      <td>Manhattan</td>\n",
       "      <td>4044.71</td>\n",
       "      <td>1475735.51</td>\n",
       "    </tr>\n",
       "    <tr>\n",
       "      <th>2</th>\n",
       "      <td>Queens</td>\n",
       "      <td>2182.22</td>\n",
       "      <td>648610.00</td>\n",
       "    </tr>\n",
       "  </tbody>\n",
       "</table>\n",
       "</div>"
      ],
      "text/plain": [
       "     Borough  Median Asking Rent  Median Recorded Sales Price\n",
       "0   Brooklyn             2716.45                   1158306.83\n",
       "1  Manhattan             4044.71                   1475735.51\n",
       "2     Queens             2182.22                    648610.00"
      ]
     },
     "execution_count": 162,
     "metadata": {},
     "output_type": "execute_result"
    }
   ],
   "source": [
    "ny_real=round(ny_real.groupby('Borough').mean().reset_index(),2)\n",
    "\n",
    "ny_real"
   ]
  },
  {
   "attachments": {},
   "cell_type": "markdown",
   "metadata": {},
   "source": [
    "Como faltan Staten Island y el Bronx busco los datos en internet y los añado"
   ]
  },
  {
   "attachments": {},
   "cell_type": "markdown",
   "metadata": {},
   "source": [
    "In the Bronx, the median asking rent remained essentially unchanged at $1,900, and in Staten Island, it actually increased 1 percent to $1,950.\n",
    "\n",
    "https://furmancenter.org/stateofthecity/view/state-of-renters-and-their-homes-2020"
   ]
  },
  {
   "attachments": {},
   "cell_type": "markdown",
   "metadata": {},
   "source": [
    "Staten Island : $584.5K Median Sold Home Price\n",
    "\n",
    "Bronx : $559.5K Median Sold Home Price"
   ]
  },
  {
   "attachments": {},
   "cell_type": "markdown",
   "metadata": {},
   "source": [
    "Añado los datos a la tabla:"
   ]
  },
  {
   "cell_type": "code",
   "execution_count": 163,
   "metadata": {},
   "outputs": [
    {
     "name": "stderr",
     "output_type": "stream",
     "text": [
      "C:\\Users\\river\\AppData\\Local\\Temp\\ipykernel_23520\\1298311832.py:4: FutureWarning: The frame.append method is deprecated and will be removed from pandas in a future version. Use pandas.concat instead.\n",
      "  ny_real = ny_real.append({'Borough': nueva_fila_1[0], 'Median Asking Rent': nueva_fila_1[1], 'Median Recorded Sales Price': nueva_fila_1[2]}, ignore_index=True)\n",
      "C:\\Users\\river\\AppData\\Local\\Temp\\ipykernel_23520\\1298311832.py:5: FutureWarning: The frame.append method is deprecated and will be removed from pandas in a future version. Use pandas.concat instead.\n",
      "  ny_real = ny_real.append({'Borough': nueva_fila_2[0], 'Median Asking Rent': nueva_fila_2[1], 'Median Recorded Sales Price': nueva_fila_2[2]}, ignore_index=True)\n"
     ]
    }
   ],
   "source": [
    "nueva_fila_1 = ['Staten Island', 1950, 584500]\n",
    "nueva_fila_2 = ['Bronx', 1900, 559500]\n",
    "\n",
    "ny_real = ny_real.append({'Borough': nueva_fila_1[0], 'Median Asking Rent': nueva_fila_1[1], 'Median Recorded Sales Price': nueva_fila_1[2]}, ignore_index=True)\n",
    "ny_real = ny_real.append({'Borough': nueva_fila_2[0], 'Median Asking Rent': nueva_fila_2[1], 'Median Recorded Sales Price': nueva_fila_2[2]}, ignore_index=True)\n"
   ]
  },
  {
   "cell_type": "code",
   "execution_count": 164,
   "metadata": {},
   "outputs": [
    {
     "data": {
      "text/html": [
       "<div>\n",
       "<style scoped>\n",
       "    .dataframe tbody tr th:only-of-type {\n",
       "        vertical-align: middle;\n",
       "    }\n",
       "\n",
       "    .dataframe tbody tr th {\n",
       "        vertical-align: top;\n",
       "    }\n",
       "\n",
       "    .dataframe thead th {\n",
       "        text-align: right;\n",
       "    }\n",
       "</style>\n",
       "<table border=\"1\" class=\"dataframe\">\n",
       "  <thead>\n",
       "    <tr style=\"text-align: right;\">\n",
       "      <th></th>\n",
       "      <th>Borough</th>\n",
       "      <th>Median Asking Rent</th>\n",
       "      <th>Median Recorded Sales Price</th>\n",
       "    </tr>\n",
       "  </thead>\n",
       "  <tbody>\n",
       "    <tr>\n",
       "      <th>0</th>\n",
       "      <td>Brooklyn</td>\n",
       "      <td>2716.45</td>\n",
       "      <td>1158306.83</td>\n",
       "    </tr>\n",
       "    <tr>\n",
       "      <th>1</th>\n",
       "      <td>Manhattan</td>\n",
       "      <td>4044.71</td>\n",
       "      <td>1475735.51</td>\n",
       "    </tr>\n",
       "    <tr>\n",
       "      <th>2</th>\n",
       "      <td>Queens</td>\n",
       "      <td>2182.22</td>\n",
       "      <td>648610.00</td>\n",
       "    </tr>\n",
       "    <tr>\n",
       "      <th>3</th>\n",
       "      <td>Staten Island</td>\n",
       "      <td>1950.00</td>\n",
       "      <td>584500.00</td>\n",
       "    </tr>\n",
       "    <tr>\n",
       "      <th>4</th>\n",
       "      <td>Bronx</td>\n",
       "      <td>1900.00</td>\n",
       "      <td>559500.00</td>\n",
       "    </tr>\n",
       "  </tbody>\n",
       "</table>\n",
       "</div>"
      ],
      "text/plain": [
       "         Borough  Median Asking Rent  Median Recorded Sales Price\n",
       "0       Brooklyn             2716.45                   1158306.83\n",
       "1      Manhattan             4044.71                   1475735.51\n",
       "2         Queens             2182.22                    648610.00\n",
       "3  Staten Island             1950.00                    584500.00\n",
       "4          Bronx             1900.00                    559500.00"
      ]
     },
     "execution_count": 164,
     "metadata": {},
     "output_type": "execute_result"
    }
   ],
   "source": [
    "ny_real"
   ]
  },
  {
   "cell_type": "code",
   "execution_count": 165,
   "metadata": {},
   "outputs": [],
   "source": [
    "#ny_real.to_csv('ny_real.csv', index=False)"
   ]
  },
  {
   "cell_type": "code",
   "execution_count": 166,
   "metadata": {},
   "outputs": [
    {
     "data": {
      "text/plain": [
       "<pandas.plotting._core.PlotAccessor object at 0x000001909658B730>"
      ]
     },
     "execution_count": 166,
     "metadata": {},
     "output_type": "execute_result"
    }
   ],
   "source": [
    "a = ny_real.plot;\n",
    "a"
   ]
  },
  {
   "cell_type": "code",
   "execution_count": 171,
   "metadata": {},
   "outputs": [],
   "source": [
    "\n",
    "# crear dos dataframes diferentes para los precios de alquiler y venta\n",
    "df_rent = ny_real[['Borough', 'Median Asking Rent']]\n",
    "df_sales = ny_real[['Borough', 'Median Recorded Sales Price']]\n"
   ]
  },
  {
   "cell_type": "code",
   "execution_count": 172,
   "metadata": {},
   "outputs": [
    {
     "data": {
      "text/plain": [
       "<Axes: title={'center': 'Median Recorded Sales Price by Borough'}, xlabel='Borough'>"
      ]
     },
     "execution_count": 172,
     "metadata": {},
     "output_type": "execute_result"
    },
    {
     "data": {
      "image/png": "[encoded data removed]",
      "text/plain": [
       "<Figure size 640x480 with 1 Axes>"
      ]
     },
     "metadata": {},
     "output_type": "display_data"
    },
    {
     "data": {
      "image/png": "[encoded data removed]",
      "text/plain": [
       "<Figure size 640x480 with 1 Axes>"
      ]
     },
     "metadata": {},
     "output_type": "display_data"
    }
   ],
   "source": [
    "df_rent.plot(kind='bar', x='Borough', y='Median Asking Rent', title='Median Asking Rent by Borough')\n",
    "df_sales.plot(kind='bar', x='Borough', y='Median Recorded Sales Price', title='Median Recorded Sales Price by Borough')\n"
   ]
  }
 ],
 "metadata": {
  "kernelspec": {
   "display_name": "ML",
   "language": "python",
   "name": "python3"
  },
  "language_info": {
   "codemirror_mode": {
    "name": "ipython",
    "version": 3
   },
   "file_extension": ".py",
   "mimetype": "text/x-python",
   "name": "python",
   "nbconvert_exporter": "python",
   "pygments_lexer": "ipython3",
   "version": "3.10.10"
  },
  "orig_nbformat": 4
 },
 "nbformat": 4,
 "nbformat_minor": 2
}
